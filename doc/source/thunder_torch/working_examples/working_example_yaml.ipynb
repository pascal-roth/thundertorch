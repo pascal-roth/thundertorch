{
 "cells": [
  {
   "cell_type": "markdown",
   "metadata": {},
   "source": [
    "Yaml-Single-Model-Interface (Working Example)\n",
    "============================================\n",
    "\n",
    "When using the yaml interface the first step is to create the template yaml file. This can be done by using the ml_init script. This script automatically asks which DataLoader and which Model should be used and copies the yaml template for the single as well as multi model training in the current working directory. "
   ]
  },
  {
   "cell_type": "code",
   "execution_count": null,
   "metadata": {},
   "outputs": [],
   "source": [
    "$ ml_init"
   ]
  },
  {
   "cell_type": "markdown",
   "metadata": {},
   "source": [
    "In this example the LightningFlexMLP and the TabularLoader are chosen so that the following yaml_file for the single model training is obtained:"
   ]
  },
  {
   "cell_type": "code",
   "execution_count": null,
   "metadata": {},
   "outputs": [],
   "source": [
    "config:\n",
    "  source_files: individual_fct\n",
    "  reproducibility: True\n",
    "\n",
    "DataLoader:\n",
    "  type: TabularLoader\n",
    "  load_DataLoader:\n",
    "    path: name.pkl or modelXXX.ckpt\n",
    "  create_DataLoader:\n",
    "    raw_data_path: samples_name.csv, .txt, .h5, .flut\n",
    "    features:\n",
    "    - feature_1\n",
    "    - feature_2\n",
    "    - '...'\n",
    "    labels:\n",
    "    - label_1\n",
    "    - label_2\n",
    "    - '...'\n",
    "    validation_data:\n",
    "      load_data:\n",
    "        path: samples_name.csv, .txt, .h5, .flut\n",
    "      split_data:\n",
    "        method: random/ percentage/ explicit\n",
    "        params: split_params\n",
    "    test_data:\n",
    "      load_data:\n",
    "        path: samples_name.csv, .txt, .h5, .flut\n",
    "      split_data:\n",
    "        method: random/ percentage/ explicit\n",
    "        params: split_params\n",
    "    save_Loader:\n",
    "      path: name.pkl\n",
    "\n",
    "Model:\n",
    "  type: LightningFlexMLP\n",
    "  load_model:\n",
    "    path: name.ckpt\n",
    "  create_model:\n",
    "    n_inp: int\n",
    "    n_out: int\n",
    "    hidden_layer: '[int, int, int]'\n",
    "    output_relu: 'bool (default: False)'\n",
    "    activation: 'str (default: relu)'\n",
    "  params:\n",
    "    loss: str (default:mse_loss)\n",
    "    optimizer:\n",
    "      type: 'str (default: Adam)'\n",
    "      params:\n",
    "        lr: 'float (default: 1.e-3'\n",
    "    scheduler:\n",
    "      execute: ' bool (default: False)'\n",
    "      type: name\n",
    "      params:\n",
    "        cooldown: int\n",
    "        patience: int\n",
    "        min_lr: float\n",
    "    num_workers: 'int (default: 10)'\n",
    "    batch: 'int (default: 64)'\n",
    "\n",
    "Trainer:\n",
    "  params:\n",
    "    gpus: int\n",
    "    max_epochs: int\n",
    "    profiler: bool\n",
    "  callbacks:\n",
    "  - type: EarlyStopping\n",
    "    params:\n",
    "      monitor: val_loss\n",
    "      patience: int\n",
    "      mode: min\n",
    "  - type: ModelCheckpoint\n",
    "    params:\n",
    "      filepath: None\n",
    "      save_top_k: int\n",
    "  - type: lr_logger\n",
    "  logger:\n",
    "  - type: Comet-ml\n",
    "    params:\n",
    "      api_key: personal_comet_api\n",
    "      project_name: str\n",
    "      workspace: personal_comet_workspace\n",
    "      experiment_name: name\n",
    "  - type: Tensorboard\n",
    " "
   ]
  },
  {
   "cell_type": "markdown",
   "metadata": {},
   "source": [
    "It is visible that the yaml is structured in config, DataLoader, Model and Trainer tree. In the following, the different parts should be discussed in detail:\n",
    "\n",
    "- config tree:\n",
    "    - the \"source_files\" key is used to add individual modules, its usage is explained in [Individual Modules Tutorial](../getting_started/Individualized_modules.html)\n",
    "    - the \"reproducibility\" key is used to make training and tesing reproducable. If it is selected the random seed of PyTorch and Numpy a set to fix value\n",
    "- DataLoader\n",
    "    - the keys of the DataLoader are unqiue for the DataLoader selected which has to be defined in type. Each DataLoader has a yml_template function that can be called as static method and that prints the basic yml outline\n",
    "    - a detailed explanation of the DataLoader properties can be found [here](../getting_started/DataLoader.html)\n",
    "- Model\n",
    "    - the keys of the Model are unqiue for the Model selected which has to be defined in type. Each Model has a yml_template function that can be called as static method and that prints the basic yml outline\n",
    "    - a detailed explanation of the Model properties can be found [here](../getting_started/Models.html)\n",
    "- Trainer\n",
    "    - the PyTorch Lightning Trainer is independent of the used DataLoader and Model, its detailed explanation can be found [here](../getting_started/Trainer.html)\n",
    "\n",
    "After adjusting it accordingly to the used case, the yaml file is read and everything is automated by calling the script \"trainFlexNN\" with the name of the yaml file:"
   ]
  },
  {
   "cell_type": "code",
   "execution_count": null,
   "metadata": {},
   "outputs": [],
   "source": [
    "~$ trainFlexNN TabularLoader_LightningFlexMLP.yaml"
   ]
  },
  {
   "cell_type": "markdown",
   "metadata": {},
   "source": [
    "Important Properties:\n",
    "--------------------\n",
    "- validation and test data do not need to be defined \n",
    "- all keys are transformed to lower case, except after split_data where feature inside the data can be defined"
   ]
  }
 ],
 "metadata": {
  "kernelspec": {
   "display_name": "ML",
   "language": "python",
   "name": "ml"
  },
  "language_info": {
   "codemirror_mode": {
    "name": "ipython",
    "version": 3
   },
   "file_extension": ".py",
   "mimetype": "text/x-python",
   "name": "python",
   "nbconvert_exporter": "python",
   "pygments_lexer": "ipython3",
   "version": "3.6.12"
  }
 },
 "nbformat": 4,
 "nbformat_minor": 4
}
